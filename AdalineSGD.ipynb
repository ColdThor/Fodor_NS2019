{
  "cells": [
    {
      "metadata": {
        "trusted": true
      },
      "cell_type": "code",
      "source": "import numpy as np\nimport pandas as pd\n\nclass AdalineSGD(object):\n    \n    def __init__(self, rychlost_ucenia=0.01, pocet_iteracii =1000, shuffle = True, random_state=None):    #Konstruktor\n       \n        self.rychlost_ucenia = rychlost_ucenia #Priradenie \n        self.pocet_iteracii = pocet_iteracii\n        self.w_initialized = False\n        self.shuffle = shuffle\n        if random_state:\n            seed(random_state)\n        \n    def fit(self,X,y):\n        \n        self._initialize_weights(X.shape[1])\n        self.cost_=[]\n        \n        for i in range (self.pocet_iteracii):\n            if self.shuffle:\n                X,y = self._shuffle(X,y)\n            cost =[]\n            \n            for xi,target in zip(X,y):\n                cost.append(self._update_weights(xi,target))\n            avg_cost = sum(cost)/len(y)\n            self.cost_.append(avg_cost)\n        return self\n    \n    def partial_fit(self,X,y):\n        if not self.w_initialized:\n            self._initialize_weights(X.shape[1])\n        if y.ravel().shape[0]>1:\n             for xi,target in zip(X,y):\n                self._update_weights(xi,target)\n        else:\n            self._update_weights(X,y)\n        return self\n\n    def _shuffle(self,X,y):\n        r =np.random.permutation(len(y))\n        return X[r],y[r]\n    \n    def _initialize_weights(self,m):\n        self.w_ =np.zeros(1+m)\n        self.w_initialized = True\n        \n    def _update_weights(self,xi,target):\n        \n        output = self.net_input(xi)\n        error = (target-output)  \n        self.w_[1:] += self.rychlost_ucenia *xi.dot(error)\n        self.w_[0] += self.rychlost_ucenia *error\n        \n        cost = 0.5*error**2\n        return cost\n        \n    def net_input(self,X):\n        return np.dot(X,self.w_[1:])+self.w_[0]\n    \n    def linearna_aktivacia(self,X):\n        return self.net_input(X)\n    \n    def predikcia(self,X):\n        return np.where(self.linearna_aktivacia(X)>=0.0,1,-1)   ",
      "execution_count": 11,
      "outputs": []
    },
    {
      "metadata": {
        "trusted": true
      },
      "cell_type": "code",
      "source": "iris = pd.read_csv(\"iris_data.csv\", header = None)\nX = iris.iloc[:100,[0,2]].values\ny = iris.iloc[0:100,4].values\ny = np.where(y=='Iris-setosa',-1,1)\nX_std = np.copy(X)\nX_std[:,0] = (X[:,0] - (X[:,0]).mean()) / X[:,0].std()\nX_std[:,1] = (X[:,1] - (X[:,1]).mean()) / X[:,1].std()\nada = AdalineSGD()\nok = ada.fit(X_std,y)",
      "execution_count": 12,
      "outputs": []
    },
    {
      "metadata": {
        "trusted": true
      },
      "cell_type": "code",
      "source": "from matplotlib.colors import ListedColormap\nimport matplotlib.pyplot as plt\n",
      "execution_count": 13,
      "outputs": []
    },
    {
      "metadata": {
        "trusted": true
      },
      "cell_type": "code",
      "source": "\n\n\n\n\n",
      "execution_count": null,
      "outputs": []
    },
    {
      "metadata": {
        "trusted": true
      },
      "cell_type": "code",
      "source": "",
      "execution_count": null,
      "outputs": []
    },
    {
      "metadata": {},
      "cell_type": "markdown",
      "source": "# VYSVETLENIE \nCOST_ sa minimalizuje podľa kompletného trénovacieho datasetu, kým perceptron aktualizáciu váh vykonáva inkrementálne po každej trénovacej vzorke. Proces postupného aktualizovania váh sa nazýva aj stochaistický gradientový zostup, pretože aproximuluje minimalizáciu nákladovej funkcie. SGD je výpočtovo efektívnejší, najmä pre veľmi veľké súbory. Tiež sme dali do triedy parameter Shuffle s boolovskou hodnotou True. Je to zamiešanie tréningového súboru údajov, aby iteroval cez tréningové vzorky v náhodnom poradí. \n\nŠtandardný stochastický gradientový zostup využíva vzorkovanie „s náhradou“, čo znamená, že pri každej iterácii sa náhodne vyberie tréningová vzorka z celého tréningového súboru. Na rozdiel od toho existuje aj výber vzoriek „bez náhrady“, čo znamená, že každá tréningová vzorka je hodnotená presne raz v každej epoche. Je nielen ľahšie realizovateľná, ale vykazuje aj lepšie výsledky v empirických porovnaniach.\n\n\nMôže sa stať, že ak zvolíme príliš veľkú rýchlosť učenia, mamiesto minimalizovania nákladovej funkcie sa chyba v každej epoche zväčšuje, pretože sme prekročili globálne minimum.\n"
    },
    {
      "metadata": {
        "trusted": true
      },
      "cell_type": "code",
      "source": "plt.plot(ada.cost_)\nplt.show()",
      "execution_count": 5,
      "outputs": [
        {
          "output_type": "display_data",
          "data": {
            "image/png": "[encoded data removed]",
            "text/plain": "<Figure size 432x288 with 1 Axes>"
          },
          "metadata": {
            "needs_background": "light"
          }
        }
      ]
    },
    {
      "metadata": {
        "trusted": true
      },
      "cell_type": "code",
      "source": "",
      "execution_count": null,
      "outputs": []
    }
  ],
  "metadata": {
    "kernelspec": {
      "name": "python36",
      "display_name": "Python 3.6",
      "language": "python"
    },
    "language_info": {
      "mimetype": "text/x-python",
      "nbconvert_exporter": "python",
      "name": "python",
      "pygments_lexer": "ipython3",
      "version": "3.6.6",
      "file_extension": ".py",
      "codemirror_mode": {
        "version": 3,
        "name": "ipython"
      }
    }
  },
  "nbformat": 4,
  "nbformat_minor": 2
}